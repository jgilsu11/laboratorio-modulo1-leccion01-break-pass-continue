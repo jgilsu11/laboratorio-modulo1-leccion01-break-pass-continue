{
 "cells": [
  {
   "cell_type": "markdown",
   "metadata": {},
   "source": [
    "\n",
    "<div style=\"text-align: center;\">\n",
    "  <img src=\"https://github.com/Hack-io-Data/Imagenes/blob/main/01-LogosHackio/logo_celeste@4x.png?raw=true\" alt=\"esquema\" />\n",
    "</div>\n"
   ]
  },
  {
   "cell_type": "markdown",
   "metadata": {},
   "source": [
    "# Laboratorio de Python: break(), pass(), continue()"
   ]
  },
  {
   "cell_type": "markdown",
   "metadata": {},
   "source": [
    "## Ejercicio 1: Validación de datos numéricos. \n",
    "\n",
    "Escribe un bucle que lea una lista de números y detenga la ejecución si encuentra un valor negativo. Muestra un mensaje indicando el número negativo encontrado.\n"
   ]
  },
  {
   "cell_type": "code",
   "execution_count": 1,
   "metadata": {},
   "outputs": [
    {
     "name": "stdout",
     "output_type": "stream",
     "text": [
      "El número -10 es negativo\n"
     ]
    }
   ],
   "source": [
    "list_num=[3, 8, -10, 7, -3]\n",
    "for numero in list_num:\n",
    "    if numero < 0:\n",
    "        print (f\"El número {numero} es negativo\")\n",
    "        break\n",
    "#HComprobacion de actualización en el local para pushear"
   ]
  },
  {
   "cell_type": "markdown",
   "metadata": {},
   "source": [
    "\n",
    "## Ejercicio 2: Filtrado de datos\n",
    "\n",
    "Escribe un bucle que imprima los números de una lista, pero que omita los números pares.\n"
   ]
  },
  {
   "cell_type": "code",
   "execution_count": 2,
   "metadata": {},
   "outputs": [
    {
     "name": "stdout",
     "output_type": "stream",
     "text": [
      "El numero en la lista es 3\n",
      "El numero en la lista es 7\n",
      "El numero en la lista es -3\n"
     ]
    }
   ],
   "source": [
    "list_num=[3, 8, -10, 7, -3]\n",
    "for numero in list_num:\n",
    "    if numero %2 ==0:\n",
    "        continue\n",
    "    else:\n",
    "        print (f\"El numero en la lista es {numero}\")\n",
    "        "
   ]
  },
  {
   "cell_type": "markdown",
   "metadata": {},
   "source": [
    "## Ejercicio 3: Búsqueda de un valor\n",
    "\n",
    "Escribe un programa que busque un valor específico en una lista y detenga la búsqueda cuando lo encuentre. Si se encuentra, muestra un mensaje.\n"
   ]
  },
  {
   "cell_type": "code",
   "execution_count": 3,
   "metadata": {},
   "outputs": [
    {
     "name": "stdout",
     "output_type": "stream",
     "text": [
      "Se ha encontrado el número 7\n"
     ]
    }
   ],
   "source": [
    "list_num=[3, 8, -10, 7, -3]\n",
    "for numero in list_num:\n",
    "    if numero == 7:\n",
    "        print (f\"Se ha encontrado el número {numero}\")\n",
    "        break\n"
   ]
  },
  {
   "cell_type": "markdown",
   "metadata": {},
   "source": [
    "## Ejercicio 4: Estructura de código incompleto\n",
    "\n",
    "Define una función que aún no tenga lógica implementada, pero que se pueda ejecutar sin errores utilizando `pass`."
   ]
  },
  {
   "cell_type": "code",
   "execution_count": 4,
   "metadata": {},
   "outputs": [],
   "source": [
    "lista=[4, 3, 6, 1, 7, 4]\n",
    "def suma_pares(num1, num2):\n",
    "    for numero in lista:\n",
    "        pass\n",
    "#No sé si el for cuenta ya como lógica en cuyo caso sería como en el siguiente bloque de código"
   ]
  },
  {
   "cell_type": "code",
   "execution_count": 24,
   "metadata": {},
   "outputs": [],
   "source": [
    "lista=[4, 3, 6, 1, 7, 4]\n",
    "def suma_pares(num1, num2):\n",
    "    pass"
   ]
  },
  {
   "cell_type": "markdown",
   "metadata": {},
   "source": [
    "## Ejercicio 5: Validación condicional\n",
    "\n",
    "Escribe un bucle que verifique una lista de nombres. Si encuentra un nombre vacío (cadena vacía), salta esa iteración y continúa con los demás nombres.\n"
   ]
  },
  {
   "cell_type": "code",
   "execution_count": 5,
   "metadata": {},
   "outputs": [
    {
     "name": "stdout",
     "output_type": "stream",
     "text": [
      "El nombre Ana está en la lista\n",
      "El nombre Juan está en la lista\n",
      "El nombre Marta está en la lista\n",
      "El nombre Jose está en la lista\n",
      "El nombre Carmen está en la lista\n"
     ]
    }
   ],
   "source": [
    "lista_nombres=[\"Ana\", \"Juan\", \"Marta\", \"Jose\", \"\", \"Carmen\"]\n",
    "for nombre in lista_nombres:\n",
    "    if nombre == \"\":\n",
    "        continue\n",
    "    else:\n",
    "        print(f\"El nombre {nombre} está en la lista\")"
   ]
  },
  {
   "cell_type": "markdown",
   "metadata": {},
   "source": [
    "## Ejercicio 6: Búsqueda de claves en un diccionario\n",
    "\n",
    "Escribe un programa que recorra un diccionario y detenga la búsqueda si encuentra una clave específica pasada por el usuario.\n"
   ]
  },
  {
   "cell_type": "code",
   "execution_count": 6,
   "metadata": {},
   "outputs": [],
   "source": [
    "diccionario={\"Ana\": 23, \"Marta\": 29, \"Alberto\": 34}\n",
    "Nombre_elegido= (str(input(\"Escribe el nombre de un@ de tus sobrin@s (Ana, Marta o Alberto): \"))).capitalize()\n",
    "for key in diccionario:\n",
    "    if Nombre_elegido == key:\n",
    "        print(f\"El nombre {Nombre_elegido} está en el diccionario\")\n",
    "        break\n",
    "    "
   ]
  },
  {
   "cell_type": "markdown",
   "metadata": {},
   "source": [
    "## Ejercicio 7: Bucle con múltiples excepciones\n",
    "\n",
    "Escribe un bucle que procese una lista de operaciones matemáticas, omitiendo las operaciones que intenten dividir por cero.\n"
   ]
  },
  {
   "cell_type": "code",
   "execution_count": 40,
   "metadata": {},
   "outputs": [
    {
     "name": "stdout",
     "output_type": "stream",
     "text": [
      "5 + 3 = 8\n",
      "10 - 2 = 8\n",
      "8 * 4 = 32\n",
      "16 / 0 = Error: División por cero omitida.\n",
      "20 / 5 = 4.0\n"
     ]
    }
   ],
   "source": [
    "lista_operaciones = [\"5 + 3\", \"10 - 2\", \"8 * 4\", \"16 / 0\", \"20 / 5\"]\n",
    "\n",
    "for operaciones in lista_operaciones:\n",
    "    try:\n",
    "        resultado = eval(operaciones)\n",
    "        print(f\"{operaciones} = {resultado}\")\n",
    "    except ZeroDivisionError:\n",
    "        print(f\"{operaciones} = Error: División por cero omitida.\")\n",
    "\n",
    "#Pensaba usar diccionario con clave por nombre de la operación y valor por la operación pero me bloqueé asi que lo hice finalmente con string\n",
    "#Eval se lo escuché a Jaime y al investigar descubrí que se usa para que se interprete como código las operaciones a pesar de que sean strings "
   ]
  },
  {
   "cell_type": "markdown",
   "metadata": {},
   "source": [
    "## Ejercicio 8: Búsqueda en una lista anidada\n",
    "\n",
    "Escribe un programa que recorra una lista de listas y detenga la búsqueda cuando encuentre un valor mayor a 50.\n"
   ]
  },
  {
   "cell_type": "code",
   "execution_count": 41,
   "metadata": {},
   "outputs": [
    {
     "name": "stdout",
     "output_type": "stream",
     "text": [
      "El numero 60 es mayor de 50\n"
     ]
    }
   ],
   "source": [
    "lista_magna=[[2, 60, 72, 1], [3, 84]]\n",
    "for lista in lista_magna:\n",
    "    for numero in lista:\n",
    "        if numero > 50:\n",
    "            print(f\"El numero {numero} es mayor de 50\")  \n",
    "            break\n",
    "    break  \n",
    "        \n"
   ]
  },
  {
   "cell_type": "markdown",
   "metadata": {},
   "source": [
    "## Ejercicio 9: Evaluación de series temporales\n",
    "\n",
    "Escribe un programa que recorra una lista de datos de series temporales y se detenga si encuentra un valor atípico (mayor a 100).\n"
   ]
  },
  {
   "cell_type": "code",
   "execution_count": 13,
   "metadata": {},
   "outputs": [
    {
     "name": "stdout",
     "output_type": "stream",
     "text": [
      "Valor normal: 23\n",
      "Valor normal: 54\n",
      "Valor normal: 76\n",
      "Valor normal: 89\n",
      "El valor atípico es 150\n"
     ]
    }
   ],
   "source": [
    "datos_serietemp = [23, 54, 76, 89, 150, 15, 78]\n",
    "for valor in datos_serietemp:\n",
    "    if valor > 100:\n",
    "        print(f\"El valor atípico es {valor}\")\n",
    "        break\n",
    "    print(f\"Valor normal: {valor}\")\n"
   ]
  },
  {
   "cell_type": "markdown",
   "metadata": {},
   "source": [
    "## Ejercicio 10: Iteración con valores faltantes\n",
    "\n",
    "Crea un bucle que recorra una lista de datos de ventas y salte los valores faltantes representados por `None`."
   ]
  },
  {
   "cell_type": "code",
   "execution_count": 14,
   "metadata": {},
   "outputs": [
    {
     "name": "stdout",
     "output_type": "stream",
     "text": [
      "Estas son las ventas 200\n",
      "Estas son las ventas 50\n",
      "Estas son las ventas 70\n",
      "Estas son las ventas 5\n"
     ]
    }
   ],
   "source": [
    "datos_ventas=[200, 50, None, 70, None, 5]\n",
    "for ventas in datos_ventas:\n",
    "    if ventas == None:\n",
    "        continue\n",
    "    print (f\"Estas son las ventas {ventas}\")\n",
    "\n"
   ]
  },
  {
   "cell_type": "markdown",
   "metadata": {},
   "source": [
    "## Ejercicio 11: Control de flujo en bucles anidados\n",
    "\n",
    "Escribe un bucle que recorra la matriz dada y se detenga si se encuentra un número negativo, mostrando su posición.\n",
    "\n"
   ]
  },
  {
   "cell_type": "code",
   "execution_count": 23,
   "metadata": {},
   "outputs": [
    {
     "name": "stdout",
     "output_type": "stream",
     "text": [
      "El número -2 es negativo y está en la posición (1, 1)\n"
     ]
    }
   ],
   "source": [
    "#No sé exactamente a qué se refiere con matriz asi que lo he hecho con una lista de listas que es lo que en mi cabeza más se parece\n",
    "matriz = [[3, 85, 47],[11, -2, 28],[4, -36, 93]]\n",
    "for i, lista in enumerate(matriz):\n",
    "    for j, valor in enumerate(lista):\n",
    "        if valor < 0:\n",
    "            print(f\"El número {valor} es negativo y está en la posición ({i}, {j})\")\n",
    "            break\n",
    "    else:\n",
    "        continue\n",
    "    break\n",
    "#Hay que incluir tanto el break del primer for como el del segundo porque si elimino el del interior o el del exterior me cuenta el -36 también"
   ]
  },
  {
   "cell_type": "markdown",
   "metadata": {},
   "source": [
    "## Ejercicio 12: Placeholder para funciones incompletas\n",
    "\n",
    "Escribe una función que tenga un bloque de control que aún no esté implementado, utilizando `pass` para que no genere errores."
   ]
  },
  {
   "cell_type": "code",
   "execution_count": 37,
   "metadata": {},
   "outputs": [],
   "source": [
    "def funcionx():\n",
    "    x = 9\n",
    "    if x > 4:\n",
    "        pass  \n",
    "    else:\n",
    "        print(\"x es menor o igual a 4\")\n",
    "funcionx()\n"
   ]
  }
 ],
 "metadata": {
  "kernelspec": {
   "display_name": "contenido",
   "language": "python",
   "name": "python3"
  },
  "language_info": {
   "codemirror_mode": {
    "name": "ipython",
    "version": 3
   },
   "file_extension": ".py",
   "mimetype": "text/x-python",
   "name": "python",
   "nbconvert_exporter": "python",
   "pygments_lexer": "ipython3",
   "version": "3.11.9"
  }
 },
 "nbformat": 4,
 "nbformat_minor": 2
}
